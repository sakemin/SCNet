{
 "cells": [
  {
   "cell_type": "code",
   "execution_count": 1,
   "metadata": {},
   "outputs": [],
   "source": [
    "from pathlib import Path\n",
    "\n",
    "root = Path(\"/home/kof008/scnet_full_dataset/train\")"
   ]
  },
  {
   "cell_type": "code",
   "execution_count": 2,
   "metadata": {},
   "outputs": [],
   "source": [
    "dirs = list(root.glob(\"*\"))"
   ]
  },
  {
   "cell_type": "code",
   "execution_count": 3,
   "metadata": {},
   "outputs": [
    {
     "data": {
      "text/plain": [
       "[PosixPath('/home/kof008/scnet_full_dataset/train/000605_#38622 - Blossom'),\n",
       " PosixPath('/home/kof008/scnet_full_dataset/train/001621_#66123 - Love Scares Me 156 STEMS (1)'),\n",
       " PosixPath('/home/kof008/scnet_full_dataset/train/Hip_and_happy'),\n",
       " PosixPath('/home/kof008/scnet_full_dataset/train/003060_#78275 - Gotta Go'),\n",
       " PosixPath('/home/kof008/scnet_full_dataset/train/000452_#31087 - Slow Down'),\n",
       " PosixPath('/home/kof008/scnet_full_dataset/train/003191_#78275 - Perfectly'),\n",
       " PosixPath('/home/kof008/scnet_full_dataset/train/000505_#32138 - Off The Rip'),\n",
       " PosixPath('/home/kof008/scnet_full_dataset/train/be_mine'),\n",
       " PosixPath('/home/kof008/scnet_full_dataset/train/000149_#21423 - You Dreamin'),\n",
       " PosixPath('/home/kof008/scnet_full_dataset/train/005201_Track - Be My Girl (Stems)')]"
      ]
     },
     "execution_count": 3,
     "metadata": {},
     "output_type": "execute_result"
    }
   ],
   "source": [
    "dirs[0:10]"
   ]
  },
  {
   "cell_type": "code",
   "execution_count": 9,
   "metadata": {},
   "outputs": [
    {
     "data": {
      "text/plain": [
       "[PosixPath('/home/kof008/scnet_full_dataset/train/000605_#38622 - Blossom/other.wav'),\n",
       " PosixPath('/home/kof008/scnet_full_dataset/train/000605_#38622 - Blossom/drums.wav'),\n",
       " PosixPath('/home/kof008/scnet_full_dataset/train/000605_#38622 - Blossom/bass.wav'),\n",
       " PosixPath('/home/kof008/scnet_full_dataset/train/000605_#38622 - Blossom/mixture.wav')]"
      ]
     },
     "execution_count": 9,
     "metadata": {},
     "output_type": "execute_result"
    }
   ],
   "source": [
    "list(dirs[0].glob(\"*\"))"
   ]
  },
  {
   "cell_type": "code",
   "execution_count": 12,
   "metadata": {},
   "outputs": [
    {
     "data": {
      "text/plain": [
       "'other'"
      ]
     },
     "execution_count": 12,
     "metadata": {},
     "output_type": "execute_result"
    }
   ],
   "source": [
    "list(dirs[0].glob(\"*\"))[0].stem"
   ]
  },
  {
   "cell_type": "code",
   "execution_count": 14,
   "metadata": {},
   "outputs": [
    {
     "name": "stdout",
     "output_type": "stream",
     "text": [
      "Unknown stem: unknown\n"
     ]
    },
    {
     "data": {
      "text/plain": [
       "{'mixture': 4439,\n",
       " 'vocals': 712,\n",
       " 'drums': 4358,\n",
       " 'bass': 4114,\n",
       " 'other': 4420,\n",
       " 'unknown': 144}"
      ]
     },
     "execution_count": 14,
     "metadata": {},
     "output_type": "execute_result"
    }
   ],
   "source": [
    "stems = {\"mixture\": 0, \"vocals\": 0, \"drums\": 0, \"bass\": 0, \"other\": 0}\n",
    "for d in dirs:\n",
    "  for f in d.glob(\"*.wav\"):\n",
    "    try:\n",
    "      stems[f.stem] += 1\n",
    "    except KeyError:\n",
    "      print(f\"Unknown stem: {f.stem}\")\n",
    "      stems[f.stem] = 1\n",
    "\n",
    "stems\n"
   ]
  },
  {
   "cell_type": "markdown",
   "metadata": {},
   "source": [
    "## a"
   ]
  },
  {
   "cell_type": "code",
   "execution_count": 11,
   "metadata": {},
   "outputs": [],
   "source": [
    "shift = 0.5\n",
    "segment = 11\n",
    "sources = ['drums', 'bass', 'other', 'vocals']\n",
    "channels = 2"
   ]
  },
  {
   "cell_type": "code",
   "execution_count": 7,
   "metadata": {},
   "outputs": [],
   "source": [
    "f = Path(\"/home/kof008/scnet_full_dataset/train/000605_#38622 - Blossom/\")"
   ]
  },
  {
   "cell_type": "code",
   "execution_count": 14,
   "metadata": {},
   "outputs": [],
   "source": [
    "import os\n",
    "import torch as th\n",
    "import torchaudio as ta\n",
    "import julius\n",
    "import numpy as np\n",
    "import math"
   ]
  },
  {
   "cell_type": "code",
   "execution_count": 18,
   "metadata": {},
   "outputs": [],
   "source": [
    "from scnet.utils import convert_audio_channels"
   ]
  },
  {
   "cell_type": "code",
   "execution_count": 13,
   "metadata": {},
   "outputs": [
    {
     "data": {
      "text/plain": [
       "48000"
      ]
     },
     "execution_count": 13,
     "metadata": {},
     "output_type": "execute_result"
    }
   ],
   "source": [
    "y, sr = ta.load(str(f / \"drums.wav\"))\n",
    "sr"
   ]
  },
  {
   "cell_type": "code",
   "execution_count": 17,
   "metadata": {},
   "outputs": [
    {
     "data": {
      "text/plain": [
       "2"
      ]
     },
     "execution_count": 17,
     "metadata": {},
     "output_type": "execute_result"
    }
   ],
   "source": [
    "y.shape[0]"
   ]
  },
  {
   "cell_type": "code",
   "execution_count": 16,
   "metadata": {},
   "outputs": [
    {
     "data": {
      "text/plain": [
       "168.33333333333334"
      ]
     },
     "execution_count": 16,
     "metadata": {},
     "output_type": "execute_result"
    }
   ],
   "source": [
    "y.shape[-1] / sr"
   ]
  },
  {
   "cell_type": "code",
   "execution_count": 15,
   "metadata": {},
   "outputs": [],
   "source": [
    "index = 0"
   ]
  },
  {
   "cell_type": "code",
   "execution_count": 20,
   "metadata": {},
   "outputs": [],
   "source": [
    "offset = int(sr * shift * index)\n",
    "num_frames = int(math.ceil(sr * segment))"
   ]
  },
  {
   "cell_type": "code",
   "execution_count": 21,
   "metadata": {},
   "outputs": [],
   "source": [
    "wavs = []\n",
    "for source in sources:\n",
    "  file = f / f\"{source}.wav\"\n",
    "  if not os.path.exists(file):\n",
    "      wav = th.zeros(channels, num_frames)\n",
    "  else:\n",
    "      wav, _ = ta.load(str(file), frame_offset=offset, num_frames=num_frames)\n",
    "      wav = convert_audio_channels(wav, channels)\n",
    "  wavs.append(wav)"
   ]
  },
  {
   "cell_type": "code",
   "execution_count": 22,
   "metadata": {},
   "outputs": [],
   "source": [
    "example = th.stack(wavs)"
   ]
  },
  {
   "cell_type": "code",
   "execution_count": 23,
   "metadata": {},
   "outputs": [
    {
     "name": "stdout",
     "output_type": "stream",
     "text": [
      "torch.Size([2, 528000])\n",
      "torch.Size([2, 528000])\n",
      "torch.Size([2, 528000])\n",
      "torch.Size([2, 528000])\n"
     ]
    }
   ],
   "source": [
    "for w in wavs:\n",
    "  print(w.shape)"
   ]
  },
  {
   "cell_type": "code",
   "execution_count": 25,
   "metadata": {},
   "outputs": [
    {
     "data": {
      "text/plain": [
       "'2.0.1+cu117'"
      ]
     },
     "execution_count": 25,
     "metadata": {},
     "output_type": "execute_result"
    }
   ],
   "source": [
    "th.__version__"
   ]
  }
 ],
 "metadata": {
  "kernelspec": {
   "display_name": ".venv",
   "language": "python",
   "name": "python3"
  },
  "language_info": {
   "codemirror_mode": {
    "name": "ipython",
    "version": 3
   },
   "file_extension": ".py",
   "mimetype": "text/x-python",
   "name": "python",
   "nbconvert_exporter": "python",
   "pygments_lexer": "ipython3",
   "version": "3.10.18"
  }
 },
 "nbformat": 4,
 "nbformat_minor": 2
}
