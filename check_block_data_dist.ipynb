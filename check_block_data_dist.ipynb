{
 "cells": [
  {
   "cell_type": "code",
   "execution_count": 6,
   "metadata": {},
   "outputs": [],
   "source": [
    "from pathlib import Path\n",
    "\n",
    "beatpulse_audio = Path(\"/data3/ORIGINAL_DATA/beatpulse_audio\")"
   ]
  },
  {
   "cell_type": "code",
   "execution_count": 13,
   "metadata": {},
   "outputs": [
    {
     "data": {
      "text/plain": [
       "2396"
      ]
     },
     "execution_count": 13,
     "metadata": {},
     "output_type": "execute_result"
    }
   ],
   "source": [
    "dirs = list(beatpulse_audio.glob(\"*\"))\n",
    "len(dirs)"
   ]
  },
  {
   "cell_type": "code",
   "execution_count": 14,
   "metadata": {},
   "outputs": [
    {
     "data": {
      "text/plain": [
       "[PosixPath('/data3/ORIGINAL_DATA/beatpulse_audio/002193_#68275 - Lover (Stems)'),\n",
       " PosixPath('/data3/ORIGINAL_DATA/beatpulse_audio/002195_#68275 - Low (Stems)'),\n",
       " PosixPath('/data3/ORIGINAL_DATA/beatpulse_audio/002208_#68275 - Neverd (Stems)'),\n",
       " PosixPath('/data3/ORIGINAL_DATA/beatpulse_audio/002212_#68275 - No Rush (Stems)'),\n",
       " PosixPath('/data3/ORIGINAL_DATA/beatpulse_audio/002219_#68275 - NXGHTS (Stems)'),\n",
       " PosixPath('/data3/ORIGINAL_DATA/beatpulse_audio/002231_#68275 - Pictures (Stems)'),\n",
       " PosixPath('/data3/ORIGINAL_DATA/beatpulse_audio/002233_#68275 - Potion (Stems)'),\n",
       " PosixPath('/data3/ORIGINAL_DATA/beatpulse_audio/002238_#68275 - Purgatory (Stems)'),\n",
       " PosixPath('/data3/ORIGINAL_DATA/beatpulse_audio/002244_#68275 - Relevations (Stems)'),\n",
       " PosixPath('/data3/ORIGINAL_DATA/beatpulse_audio/002254_#68275 - Sand (Stems)')]"
      ]
     },
     "execution_count": 14,
     "metadata": {},
     "output_type": "execute_result"
    }
   ],
   "source": [
    "dirs[0:10]"
   ]
  },
  {
   "cell_type": "code",
   "execution_count": 15,
   "metadata": {},
   "outputs": [
    {
     "data": {
      "text/plain": [
       "[PosixPath('/data3/ORIGINAL_DATA/beatpulse_audio/002193_#68275 - Lover (Stems)/__new_stems_outputs__/Mixed.wav'),\n",
       " PosixPath('/data3/ORIGINAL_DATA/beatpulse_audio/002193_#68275 - Lover (Stems)/__new_stems_outputs__/fx.wav'),\n",
       " PosixPath('/data3/ORIGINAL_DATA/beatpulse_audio/002193_#68275 - Lover (Stems)/__new_stems_outputs__/high.wav'),\n",
       " PosixPath('/data3/ORIGINAL_DATA/beatpulse_audio/002193_#68275 - Lover (Stems)/__new_stems_outputs__/low.wav'),\n",
       " PosixPath('/data3/ORIGINAL_DATA/beatpulse_audio/002193_#68275 - Lover (Stems)/__new_stems_outputs__/mid.wav'),\n",
       " PosixPath('/data3/ORIGINAL_DATA/beatpulse_audio/002193_#68275 - Lover (Stems)/__new_stems_outputs__/rhy.wav')]"
      ]
     },
     "execution_count": 15,
     "metadata": {},
     "output_type": "execute_result"
    }
   ],
   "source": [
    "list((dirs[0]/\"__new_stems_outputs__\").glob(\"*\"))"
   ]
  },
  {
   "cell_type": "code",
   "execution_count": 11,
   "metadata": {},
   "outputs": [
    {
     "data": {
      "text/plain": [
       "'Mixed'"
      ]
     },
     "execution_count": 11,
     "metadata": {},
     "output_type": "execute_result"
    }
   ],
   "source": [
    "list((dirs[0]/\"__new_stems_outputs__\").glob(\"*\"))[0].stem"
   ]
  },
  {
   "cell_type": "markdown",
   "metadata": {},
   "source": [
    "rhy, rhythm, RHY, RHYTHM\n",
    "대소문자"
   ]
  },
  {
   "cell_type": "code",
   "execution_count": 22,
   "metadata": {},
   "outputs": [
    {
     "data": {
      "text/plain": [
       "{'mix': 2393,\n",
       " 'fx': 1566,\n",
       " 'hig': 2071,\n",
       " 'low': 2310,\n",
       " 'mid': 2199,\n",
       " 'rhy': 2380,\n",
       " 'mel': 208,\n",
       " 'ski': 245}"
      ]
     },
     "execution_count": 22,
     "metadata": {},
     "output_type": "execute_result"
    }
   ],
   "source": [
    "beatpulse_audio = Path(\"/data3/ORIGINAL_DATA/beatpulse_audio\")\n",
    "beatpulse_audio_dirs = list(beatpulse_audio.glob(\"*\"))\n",
    "\n",
    "beatpulse_audio_stems = {}\n",
    "for d in dirs:\n",
    "  for f in (d/\"__new_stems_outputs__\").glob(\"*.wav\"):\n",
    "    stem_lower = f.stem.lower()[:3]\n",
    "    if stem_lower not in beatpulse_audio_stems:\n",
    "      beatpulse_audio_stems[stem_lower] = 0\n",
    "    beatpulse_audio_stems[stem_lower] += 1\n",
    "\n",
    "beatpulse_audio_stems"
   ]
  },
  {
   "cell_type": "code",
   "execution_count": 24,
   "metadata": {},
   "outputs": [
    {
     "data": {
      "text/plain": [
       "{'mix': 898,\n",
       " 'hig': 718,\n",
       " 'low': 871,\n",
       " 'mid': 855,\n",
       " 'rhy': 898,\n",
       " 'fx': 589,\n",
       " 'mel': 55,\n",
       " 'ski': 1}"
      ]
     },
     "execution_count": 24,
     "metadata": {},
     "output_type": "execute_result"
    }
   ],
   "source": [
    "beatpulse_audio_904 = Path(\"/data3/ORIGINAL_DATA/beatpulse_audio_904\")\n",
    "beatpulse_audio_904_dirs = list(beatpulse_audio_904.glob(\"*\"))\n",
    "\n",
    "beatpulse_audio_904_stems = {}\n",
    "for d in beatpulse_audio_904_dirs:\n",
    "  for f in (d/\"__new_stems_outputs__\").glob(\"*.wav\"):\n",
    "    stem_lower = f.stem.lower()[:3]\n",
    "    if stem_lower not in beatpulse_audio_904_stems:\n",
    "      beatpulse_audio_904_stems[stem_lower] = 0\n",
    "    beatpulse_audio_904_stems[stem_lower] += 1\n",
    "\n",
    "beatpulse_audio_904_stems"
   ]
  },
  {
   "cell_type": "code",
   "execution_count": 25,
   "metadata": {},
   "outputs": [
    {
     "data": {
      "text/plain": [
       "{'mix': 2597,\n",
       " 'fx': 1835,\n",
       " 'hig': 1978,\n",
       " 'low': 2432,\n",
       " 'mid': 2297,\n",
       " 'rhy': 2586,\n",
       " 'mel': 263,\n",
       " 'ski': 1}"
      ]
     },
     "execution_count": 25,
     "metadata": {},
     "output_type": "execute_result"
    }
   ],
   "source": [
    "beatpulse_audio_1992 = Path(\"/data3/ORIGINAL_DATA/beatpulse_audio_1992\")\n",
    "beatpulse_audio_1992_dirs = list(beatpulse_audio_1992.glob(\"*\"))\n",
    "\n",
    "beatpulse_audio_1992_stems = {}\n",
    "for d in beatpulse_audio_1992_dirs:\n",
    "  for f in (d/\"__new_stems_outputs__\").glob(\"*.wav\"):\n",
    "    stem_lower = f.stem.lower()[:3]\n",
    "    if stem_lower not in beatpulse_audio_1992_stems:\n",
    "      beatpulse_audio_1992_stems[stem_lower] = 0\n",
    "    beatpulse_audio_1992_stems[stem_lower] += 1\n",
    "\n",
    "beatpulse_audio_1992_stems"
   ]
  },
  {
   "cell_type": "code",
   "execution_count": 26,
   "metadata": {},
   "outputs": [
    {
     "data": {
      "text/plain": [
       "{'mix': 5888,\n",
       " 'fx': 3990,\n",
       " 'hig': 4767,\n",
       " 'low': 5613,\n",
       " 'mid': 5351,\n",
       " 'rhy': 5864,\n",
       " 'mel': 526,\n",
       " 'ski': 247}"
      ]
     },
     "execution_count": 26,
     "metadata": {},
     "output_type": "execute_result"
    }
   ],
   "source": [
    "# Combine all stem dictionaries\n",
    "combined_stems = {}\n",
    "for stem_dict in [beatpulse_audio_stems, beatpulse_audio_904_stems, beatpulse_audio_1992_stems]:\n",
    "  for stem, count in stem_dict.items():\n",
    "    if stem not in combined_stems:\n",
    "      combined_stems[stem] = 0\n",
    "    combined_stems[stem] += count\n",
    "\n",
    "combined_stems\n"
   ]
  },
  {
   "cell_type": "code",
   "execution_count": 27,
   "metadata": {},
   "outputs": [
    {
     "data": {
      "text/plain": [
       "{'low': 755, 'fx': 391, 'mid': 821, 'rhy': 799, 'mix': 839, 'hig': 709}"
      ]
     },
     "execution_count": 27,
     "metadata": {},
     "output_type": "execute_result"
    }
   ],
   "source": [
    "pointune_audio_1992 = Path(\"/data3/ORIGINAL_DATA/pointune_audio\")\n",
    "pointune_audio_1992_dirs = list(pointune_audio_1992.glob(\"*\"))\n",
    "\n",
    "pointune_audio_1992_stems = {}\n",
    "for d in pointune_audio_1992_dirs:\n",
    "  for f in (d/\"__new_stems_outputs__\").glob(\"*.wav\"):\n",
    "    stem_lower = f.stem.lower()[:3]\n",
    "    if stem_lower not in pointune_audio_1992_stems:\n",
    "      pointune_audio_1992_stems[stem_lower] = 0\n",
    "    pointune_audio_1992_stems[stem_lower] += 1\n",
    "\n",
    "pointune_audio_1992_stems"
   ]
  },
  {
   "cell_type": "code",
   "execution_count": 28,
   "metadata": {},
   "outputs": [],
   "source": [
    "mixaudio_audio = Path(\"/data3/ORIGINAL_DATA/mixaudio_audio\")\n",
    "mixaudio_audio_dirs = list(mixaudio_audio.glob(\"*\"))"
   ]
  },
  {
   "cell_type": "code",
   "execution_count": 31,
   "metadata": {},
   "outputs": [
    {
     "data": {
      "text/plain": [
       "[PosixPath('/data3/ORIGINAL_DATA/mixaudio_audio/5a-highplace/song1'),\n",
       " PosixPath('/data3/ORIGINAL_DATA/mixaudio_audio/5a-highplace/song2'),\n",
       " PosixPath('/data3/ORIGINAL_DATA/mixaudio_audio/5a-highplace/song3'),\n",
       " PosixPath('/data3/ORIGINAL_DATA/mixaudio_audio/5a-highplace/song4'),\n",
       " PosixPath('/data3/ORIGINAL_DATA/mixaudio_audio/5a-highplace/song5')]"
      ]
     },
     "execution_count": 31,
     "metadata": {},
     "output_type": "execute_result"
    }
   ],
   "source": [
    "list(mixaudio_audio_dirs[0].glob('*'))"
   ]
  },
  {
   "cell_type": "code",
   "execution_count": 40,
   "metadata": {},
   "outputs": [
    {
     "data": {
      "text/plain": [
       "{'fx': 1181,\n",
       " 'hig': 1675,\n",
       " 'mid': 1750,\n",
       " 'mix': 2133,\n",
       " 'low': 1778,\n",
       " 'rhy': 1898,\n",
       " 'mel': 384}"
      ]
     },
     "execution_count": 40,
     "metadata": {},
     "output_type": "execute_result"
    }
   ],
   "source": [
    "mixaudio_audio = Path(\"/data3/ORIGINAL_DATA/mixaudio_audio\")\n",
    "mixaudio_audio_dirs = list(mixaudio_audio.glob(\"*\"))\n",
    "\n",
    "mixaudio_audio_stems = {}\n",
    "for d in mixaudio_audio_dirs:\n",
    "  n_songs = len(list(d.glob(\"*\")))\n",
    "  for song in d.glob(\"*/*\"):\n",
    "    for seg in song.glob(\"*\"):\n",
    "      if seg.stem in [\"mixed_no_melody\", \"mixed_melody\", \".DS_Store\"]:\n",
    "        continue\n",
    "      stem_lower = seg.stem.lower()[:3]\n",
    "      if stem_lower == \"son\": print(seg)\n",
    "      if stem_lower not in mixaudio_audio_stems:\n",
    "        mixaudio_audio_stems[stem_lower] = 0\n",
    "      mixaudio_audio_stems[stem_lower] += 1\n",
    "\n",
    "mixaudio_audio_stems"
   ]
  },
  {
   "cell_type": "code",
   "execution_count": 41,
   "metadata": {},
   "outputs": [
    {
     "name": "stdout",
     "output_type": "stream",
     "text": [
      "/data3/ORIGINAL_DATA/mixaudio_audio/dbo-lifeinla/song1/A/.DS_Store\n",
      "/data3/ORIGINAL_DATA/mixaudio_audio/dbo-lifeinla/song1/B/.DS_Store\n",
      "/data3/ORIGINAL_DATA/mixaudio_audio/dbo-lifeinla/song1/C/.DS_Store\n",
      "/data3/ORIGINAL_DATA/mixaudio_audio/dbo-lifeinla/song1/D/.DS_Store\n",
      "/data3/ORIGINAL_DATA/mixaudio_audio/dbo-lifeinla/song1/E/.DS_Store\n",
      "/data3/ORIGINAL_DATA/mixaudio_audio/dbo-lifeinla/song2/A/.DS_Store\n",
      "/data3/ORIGINAL_DATA/mixaudio_audio/dbo-lifeinla/song2/B/.DS_Store\n",
      "/data3/ORIGINAL_DATA/mixaudio_audio/dbo-lifeinla/song2/C/.DS_Store\n",
      "/data3/ORIGINAL_DATA/mixaudio_audio/dbo-lifeinla/song2/D/.DS_Store\n",
      "/data3/ORIGINAL_DATA/mixaudio_audio/dbo-lifeinla/song2/E/.DS_Store\n",
      "/data3/ORIGINAL_DATA/mixaudio_audio/dbo-lifeinla/song3/A/.DS_Store\n",
      "/data3/ORIGINAL_DATA/mixaudio_audio/dbo-lifeinla/song3/B/.DS_Store\n",
      "/data3/ORIGINAL_DATA/mixaudio_audio/dbo-lifeinla/song3/C/.DS_Store\n",
      "/data3/ORIGINAL_DATA/mixaudio_audio/dbo-lifeinla/song3/D/.DS_Store\n",
      "/data3/ORIGINAL_DATA/mixaudio_audio/dbo-lifeinla/song3/E/.DS_Store\n",
      "/data3/ORIGINAL_DATA/mixaudio_audio/dbo-lifeinla/song4/A/.DS_Store\n",
      "/data3/ORIGINAL_DATA/mixaudio_audio/dbo-lifeinla/song4/B/.DS_Store\n",
      "/data3/ORIGINAL_DATA/mixaudio_audio/dbo-lifeinla/song4/C/.DS_Store\n",
      "/data3/ORIGINAL_DATA/mixaudio_audio/dbo-lifeinla/song4/D/.DS_Store\n",
      "/data3/ORIGINAL_DATA/mixaudio_audio/dbo-lifeinla/song4/E/.DS_Store\n",
      "/data3/ORIGINAL_DATA/mixaudio_audio/dbo-lifeinla/song5/A/.DS_Store\n",
      "/data3/ORIGINAL_DATA/mixaudio_audio/dbo-lifeinla/song5/B/.DS_Store\n",
      "/data3/ORIGINAL_DATA/mixaudio_audio/dbo-lifeinla/song5/C/.DS_Store\n",
      "/data3/ORIGINAL_DATA/mixaudio_audio/dbo-lifeinla/song5/D/.DS_Store\n",
      "/data3/ORIGINAL_DATA/mixaudio_audio/dbo-lifeinla/song5/E/.DS_Store\n"
     ]
    }
   ],
   "source": [
    "for d in mixaudio_audio_dirs:\n",
    "  n_songs = len(list(d.glob(\"*\")))\n",
    "  for song in d.glob(\"*/*\"):\n",
    "    for seg in song.glob(\"*\"):\n",
    "      if seg.stem in [\"mixed\", \"mixed_no_melody\", \"mixed_melody\"]:\n",
    "        continue\n",
    "      if len(list(seg.glob(\"*.wav\"))) != 1:\n",
    "        print(seg)\n"
   ]
  },
  {
   "cell_type": "markdown",
   "metadata": {},
   "source": [
    "## a"
   ]
  },
  {
   "cell_type": "code",
   "execution_count": 11,
   "metadata": {},
   "outputs": [],
   "source": [
    "shift = 0.5\n",
    "segment = 11\n",
    "sources = ['drums', 'bass', 'other', 'vocals']\n",
    "channels = 2"
   ]
  },
  {
   "cell_type": "code",
   "execution_count": 7,
   "metadata": {},
   "outputs": [],
   "source": [
    "f = Path(\"/home/kof008/scnet_full_dataset/train/000605_#38622 - Blossom/\")"
   ]
  },
  {
   "cell_type": "code",
   "execution_count": 14,
   "metadata": {},
   "outputs": [],
   "source": [
    "import os\n",
    "import torch as th\n",
    "import torchaudio as ta\n",
    "import julius\n",
    "import numpy as np\n",
    "import math"
   ]
  },
  {
   "cell_type": "code",
   "execution_count": 18,
   "metadata": {},
   "outputs": [],
   "source": [
    "from scnet.utils import convert_audio_channels"
   ]
  },
  {
   "cell_type": "code",
   "execution_count": 13,
   "metadata": {},
   "outputs": [
    {
     "data": {
      "text/plain": [
       "48000"
      ]
     },
     "execution_count": 13,
     "metadata": {},
     "output_type": "execute_result"
    }
   ],
   "source": [
    "y, sr = ta.load(str(f / \"drums.wav\"))\n",
    "sr"
   ]
  },
  {
   "cell_type": "code",
   "execution_count": 17,
   "metadata": {},
   "outputs": [
    {
     "data": {
      "text/plain": [
       "2"
      ]
     },
     "execution_count": 17,
     "metadata": {},
     "output_type": "execute_result"
    }
   ],
   "source": [
    "y.shape[0]"
   ]
  },
  {
   "cell_type": "code",
   "execution_count": 16,
   "metadata": {},
   "outputs": [
    {
     "data": {
      "text/plain": [
       "168.33333333333334"
      ]
     },
     "execution_count": 16,
     "metadata": {},
     "output_type": "execute_result"
    }
   ],
   "source": [
    "y.shape[-1] / sr"
   ]
  },
  {
   "cell_type": "code",
   "execution_count": 15,
   "metadata": {},
   "outputs": [],
   "source": [
    "index = 0"
   ]
  },
  {
   "cell_type": "code",
   "execution_count": 20,
   "metadata": {},
   "outputs": [],
   "source": [
    "offset = int(sr * shift * index)\n",
    "num_frames = int(math.ceil(sr * segment))"
   ]
  },
  {
   "cell_type": "code",
   "execution_count": 21,
   "metadata": {},
   "outputs": [],
   "source": [
    "wavs = []\n",
    "for source in sources:\n",
    "  file = f / f\"{source}.wav\"\n",
    "  if not os.path.exists(file):\n",
    "      wav = th.zeros(channels, num_frames)\n",
    "  else:\n",
    "      wav, _ = ta.load(str(file), frame_offset=offset, num_frames=num_frames)\n",
    "      wav = convert_audio_channels(wav, channels)\n",
    "  wavs.append(wav)"
   ]
  },
  {
   "cell_type": "code",
   "execution_count": 22,
   "metadata": {},
   "outputs": [],
   "source": [
    "example = th.stack(wavs)"
   ]
  },
  {
   "cell_type": "code",
   "execution_count": 23,
   "metadata": {},
   "outputs": [
    {
     "name": "stdout",
     "output_type": "stream",
     "text": [
      "torch.Size([2, 528000])\n",
      "torch.Size([2, 528000])\n",
      "torch.Size([2, 528000])\n",
      "torch.Size([2, 528000])\n"
     ]
    }
   ],
   "source": [
    "for w in wavs:\n",
    "  print(w.shape)"
   ]
  },
  {
   "cell_type": "code",
   "execution_count": 25,
   "metadata": {},
   "outputs": [
    {
     "data": {
      "text/plain": [
       "'2.0.1+cu117'"
      ]
     },
     "execution_count": 25,
     "metadata": {},
     "output_type": "execute_result"
    }
   ],
   "source": [
    "th.__version__"
   ]
  }
 ],
 "metadata": {
  "kernelspec": {
   "display_name": ".venv",
   "language": "python",
   "name": "python3"
  },
  "language_info": {
   "codemirror_mode": {
    "name": "ipython",
    "version": 3
   },
   "file_extension": ".py",
   "mimetype": "text/x-python",
   "name": "python",
   "nbconvert_exporter": "python",
   "pygments_lexer": "ipython3",
   "version": "3.10.18"
  }
 },
 "nbformat": 4,
 "nbformat_minor": 2
}
